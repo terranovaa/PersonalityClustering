{
 "cells": [
  {
   "cell_type": "code",
   "execution_count": null,
   "metadata": {
    "pycharm": {
     "name": "#%%\n"
    }
   },
   "outputs": [],
   "source": [
    "import pandas as pd\n",
    "\n",
    "df_model = pd.read_csv('../data/data-preprocessed.csv',index_col=0)\n",
    "df_model.head()"
   ]
  },
  {
   "cell_type": "markdown",
   "metadata": {},
   "source": [
    "# Hierarchical Clustering"
   ]
  },
  {
   "cell_type": "code",
   "execution_count": 2,
   "metadata": {
    "pycharm": {
     "name": "#%%\n"
    }
   },
   "outputs": [],
   "source": [
    "from sklearn.metrics import silhouette_score, silhouette_samples\n",
    "from matplotlib import pyplot as plt\n",
    "import numpy as np\n",
    "\n",
    "from sklearn.decomposition import PCA\n",
    "import seaborn as sns\n",
    "\n",
    "from scipy.cluster.hierarchy import dendrogram\n",
    "\n",
    "def plot_dendrogram(model, **kwargs):\n",
    "    counts = np.zeros(model.children_.shape[0])\n",
    "    n_samples = len(model.labels_)\n",
    "    for i, merge in enumerate(model.children_):\n",
    "        current_count = 0\n",
    "        for child_idx in merge:\n",
    "            if child_idx < n_samples:\n",
    "                current_count += 1  # leaf node\n",
    "            else:\n",
    "                current_count += counts[child_idx - n_samples]\n",
    "        counts[i] = current_count\n",
    "    linkage_matrix = np.column_stack(\n",
    "        [model.children_, model.distances_, counts]\n",
    "    ).astype(float)\n",
    "    plt.title(\"Hierarchical Clustering Dendrogram\")\n",
    "    dendrogram(linkage_matrix, **kwargs,color_threshold=10000)\n",
    "    plt.xlabel(\"Number of points in node (or index of point if no parenthesis).\")\n",
    "    plt.show()\n",
    "\n",
    "pca = PCA(n_components=3)\n",
    "pca_fit = pca.fit_transform(df_model)\n",
    "\n",
    "def show_clusters_size(clusters):\n",
    "    unique, counts = np.unique(clusters, return_counts=True)\n",
    "    print(dict(zip(unique, counts)))\n",
    "\n",
    "def show_pca(clusters):\n",
    "    df_pca = pd.DataFrame(data=pca_fit, columns=['PC1', 'PC2', 'PC3'])\n",
    "    fig, ax = plt.subplots(2, 2, figsize=(15,14))\n",
    "    sns.scatterplot(data=df_pca, x='PC1', y='PC2', palette='Set1', hue=clusters, ax=ax[0][0])\n",
    "    sns.scatterplot(data=df_pca, x='PC1', y='PC3', palette='Set1', hue=clusters, ax=ax[0][1])\n",
    "    sns.scatterplot(data=df_pca, x='PC2', y='PC3', palette='Set1', hue=clusters, ax=ax[1][0])\n",
    "    fig.delaxes(ax[1][1])\n",
    "\n",
    "def show_parallel_coordinates(clusters):\n",
    "    fig, ax = plt.subplots(1, 1, figsize=(8,7))\n",
    "    df_model_par = df_model.copy()\n",
    "    df_model_par['Cluster'] = clusters\n",
    "    palette = sns.color_palette('Set1')\n",
    "    pd.plotting.parallel_coordinates(df_model_par, 'Cluster', color=palette, ax = ax)\n",
    "\n",
    "def show_mean_values(clusters):\n",
    "    print(df_model.groupby(clusters).mean())\n",
    "\n",
    "def show_silhouette_scores(clusters, k):\n",
    "    score = silhouette_score(df_model, clusters, metric='euclidean')\n",
    "    print('Silhouette Score: %.3f' % score)\n",
    "    sample_silhouette_values = silhouette_samples(df_model, clusters)\n",
    "    means_lst = []\n",
    "    for label in range(k):\n",
    "        means_lst.append(sample_silhouette_values[clusters == label].mean())\n",
    "    print(\"Silhouette mean for each cluster:\",means_lst)\n",
    "    sample_silhouette_values = silhouette_samples(df_model, clusters)\n",
    "    print(\"Std of silhouette mean:\",np.std(means_lst))\n",
    "    print(\"Number of negative silhouette values:\",np.sum(sample_silhouette_values < 0, axis=0))"
   ]
  },
  {
   "cell_type": "markdown",
   "metadata": {
    "pycharm": {
     "name": "#%% md\n"
    }
   },
   "source": [
    "# AGNES - CompleteLinkage"
   ]
  },
  {
   "cell_type": "code",
   "execution_count": null,
   "metadata": {
    "pycharm": {
     "name": "#%%\n"
    }
   },
   "outputs": [],
   "source": [
    "from sklearn.cluster import AgglomerativeClustering\n",
    "\n",
    "AGNES = AgglomerativeClustering(n_clusters=None, affinity='euclidean', linkage='complete', distance_threshold =0)\n",
    "model = AGNES.fit(df_model)\n",
    "plot_dendrogram(model, truncate_mode=\"lastp\", p=6)"
   ]
  },
  {
   "cell_type": "code",
   "execution_count": null,
   "metadata": {
    "pycharm": {
     "name": "#%%\n"
    }
   },
   "outputs": [],
   "source": [
    "Ks = range(3,6)"
   ]
  },
  {
   "cell_type": "code",
   "execution_count": null,
   "metadata": {
    "pycharm": {
     "name": "#%%\n"
    }
   },
   "outputs": [],
   "source": [
    "for i in Ks:\n",
    "    AGNES = AgglomerativeClustering(n_clusters=i, affinity='euclidean', linkage='complete', distance_threshold =None).fit(df_model)\n",
    "    Clusters = AGNES.labels_\n",
    "    show_clusters_size(Clusters)"
   ]
  },
  {
   "cell_type": "code",
   "execution_count": null,
   "metadata": {
    "pycharm": {
     "name": "#%%\n"
    }
   },
   "outputs": [],
   "source": [
    "for i in Ks:\n",
    "    AGNES = AgglomerativeClustering(n_clusters=i, affinity='euclidean', linkage='complete', distance_threshold =None).fit(df_model)\n",
    "    Clusters = AGNES.labels_\n",
    "    show_pca(Clusters)"
   ]
  },
  {
   "cell_type": "code",
   "execution_count": null,
   "metadata": {
    "pycharm": {
     "name": "#%%\n"
    }
   },
   "outputs": [],
   "source": [
    "for i in Ks:\n",
    "    AGNES = AgglomerativeClustering(n_clusters=i, affinity='euclidean', linkage='complete', distance_threshold =None).fit(df_model)\n",
    "    Clusters = AGNES.labels_\n",
    "    show_parallel_coordinates(Clusters)"
   ]
  },
  {
   "cell_type": "code",
   "execution_count": null,
   "metadata": {
    "pycharm": {
     "name": "#%%\n"
    }
   },
   "outputs": [],
   "source": [
    "for i in Ks:\n",
    "    AGNES = AgglomerativeClustering(n_clusters=i, affinity='euclidean', linkage='complete', distance_threshold =None).fit(df_model)\n",
    "    Clusters = AGNES.labels_\n",
    "    show_mean_values(Clusters)"
   ]
  },
  {
   "cell_type": "markdown",
   "metadata": {
    "pycharm": {
     "name": "#%% md\n"
    }
   },
   "source": [
    "# AGNES - WardLinkage"
   ]
  },
  {
   "cell_type": "code",
   "execution_count": null,
   "metadata": {
    "pycharm": {
     "name": "#%%\n"
    }
   },
   "outputs": [],
   "source": [
    "AGNES = AgglomerativeClustering(n_clusters=None, affinity='euclidean', linkage='ward',distance_threshold =0)\n",
    "model = AGNES.fit(df_model)\n",
    "plot_dendrogram(model, truncate_mode=\"lastp\", p=4)"
   ]
  },
  {
   "cell_type": "code",
   "execution_count": null,
   "metadata": {
    "pycharm": {
     "name": "#%%\n"
    }
   },
   "outputs": [],
   "source": [
    "Ks = range(3,6)"
   ]
  },
  {
   "cell_type": "code",
   "execution_count": null,
   "metadata": {
    "pycharm": {
     "name": "#%%\n"
    }
   },
   "outputs": [],
   "source": [
    "for i in Ks:\n",
    "    AGNES = AgglomerativeClustering(n_clusters=i, affinity='euclidean', linkage='ward', distance_threshold =None).fit(df_model)\n",
    "    Clusters = AGNES.labels_\n",
    "    show_clusters_size(Clusters)"
   ]
  },
  {
   "cell_type": "code",
   "execution_count": null,
   "metadata": {
    "pycharm": {
     "name": "#%%\n"
    }
   },
   "outputs": [],
   "source": [
    "for i in Ks:\n",
    "    AGNES = AgglomerativeClustering(n_clusters=i, affinity='euclidean', linkage='ward', distance_threshold =None).fit(df_model)\n",
    "    Clusters = AGNES.labels_\n",
    "    show_pca(Clusters)"
   ]
  },
  {
   "cell_type": "code",
   "execution_count": null,
   "metadata": {
    "pycharm": {
     "name": "#%%\n"
    }
   },
   "outputs": [],
   "source": [
    "for i in Ks:\n",
    "    AGNES = AgglomerativeClustering(n_clusters=i, affinity='euclidean', linkage='ward', distance_threshold =None).fit(df_model)\n",
    "    Clusters = AGNES.labels_\n",
    "    show_parallel_coordinates(Clusters)"
   ]
  },
  {
   "cell_type": "code",
   "execution_count": null,
   "metadata": {
    "pycharm": {
     "name": "#%%\n"
    }
   },
   "outputs": [],
   "source": [
    "for i in Ks:\n",
    "    AGNES = AgglomerativeClustering(n_clusters=i, affinity='euclidean', linkage='ward', distance_threshold =None).fit(df_model)\n",
    "    Clusters = AGNES.labels_\n",
    "    show_mean_values(Clusters)"
   ]
  },
  {
   "cell_type": "markdown",
   "metadata": {
    "pycharm": {
     "name": "#%% md\n"
    }
   },
   "source": [
    "# AGNES - SingleLinkage"
   ]
  },
  {
   "cell_type": "code",
   "execution_count": null,
   "metadata": {
    "pycharm": {
     "name": "#%%\n"
    }
   },
   "outputs": [],
   "source": [
    "AGNES = AgglomerativeClustering(n_clusters=None, affinity='euclidean', linkage='single', distance_threshold =0)\n",
    "model = AGNES.fit(df_model)\n",
    "plot_dendrogram(model, truncate_mode=\"lastp\", p=100)"
   ]
  },
  {
   "cell_type": "markdown",
   "metadata": {},
   "source": [
    "# BIRCH"
   ]
  },
  {
   "cell_type": "code",
   "execution_count": null,
   "metadata": {
    "pycharm": {
     "name": "#%%\n"
    }
   },
   "outputs": [],
   "source": [
    "from sklearn.cluster import Birch\n",
    "\n",
    "for i in [1.5,1.6,1.7,1.8]:\n",
    "    for j in (2,3,4):\n",
    "        BIRCH=Birch(branching_factor=j, n_clusters = None, threshold=i).fit(df_model)\n",
    "        Clusters = BIRCH.predict(df_model)\n",
    "        unique, counts = np.unique(Clusters, return_counts=True)\n",
    "        print(\"For RadiusThreshold =\",i,\"and L =\",j,\"we have:\",dict(zip(unique, counts)))"
   ]
  },
  {
   "cell_type": "code",
   "execution_count": null,
   "metadata": {
    "pycharm": {
     "name": "#%%\n"
    }
   },
   "outputs": [],
   "source": [
    "RadiusThresholdRange = [1.5,1.6,1.7,1.8]\n",
    "L = 4"
   ]
  },
  {
   "cell_type": "code",
   "execution_count": null,
   "metadata": {
    "pycharm": {
     "name": "#%%\n"
    }
   },
   "outputs": [],
   "source": [
    "for i in RadiusThresholdRange:\n",
    "    BIRCH=Birch(branching_factor=L, n_clusters = None, threshold=i).fit(df_model)\n",
    "    Clusters = BIRCH.predict(df_model)\n",
    "    show_pca(Clusters)"
   ]
  },
  {
   "cell_type": "code",
   "execution_count": null,
   "metadata": {
    "pycharm": {
     "name": "#%%\n"
    }
   },
   "outputs": [],
   "source": [
    "for i in RadiusThresholdRange:\n",
    "    BIRCH=Birch(branching_factor=L, n_clusters = None, threshold=i)\n",
    "    BIRCH.fit(df_model)\n",
    "    Clusters = BIRCH.predict(df_model)\n",
    "    unique, counts = np.unique(Clusters, return_counts=True)\n",
    "    palette = sns.color_palette('Set1', len(unique))\n",
    "    print(\"For threshold = %.1f we have:\" % (i))\n",
    "    show_silhouette_scores(Clusters,len(unique))\n",
    "# No Visualizer for BIRCH"
   ]
  },
  {
   "cell_type": "code",
   "execution_count": null,
   "metadata": {
    "pycharm": {
     "name": "#%%\n"
    }
   },
   "outputs": [],
   "source": [
    "for i in RadiusThresholdRange:\n",
    "    BIRCH=Birch(branching_factor=10, n_clusters = None, threshold=i)\n",
    "    BIRCH.fit(df_model)\n",
    "    Clusters = BIRCH.predict(df_model)\n",
    "    show_parallel_coordinates(Clusters)"
   ]
  },
  {
   "cell_type": "code",
   "execution_count": null,
   "metadata": {
    "pycharm": {
     "name": "#%%\n"
    }
   },
   "outputs": [],
   "source": [
    "for i in RadiusThresholdRange:\n",
    "    BIRCH=Birch(branching_factor=10, n_clusters = None, threshold=i)\n",
    "    BIRCH.fit(df_model)\n",
    "    Clusters =  BIRCH.predict(df_model)\n",
    "    show_mean_values(Clusters)"
   ]
  },
  {
   "cell_type": "code",
   "execution_count": null,
   "metadata": {},
   "outputs": [],
   "source": [
    "from sklearn import cluster\n",
    "from itertools import cycle, islice\n",
    "# Set up cluster parameters\n",
    "plt.figure(figsize=(35, 6))\n",
    "\n",
    "pca = PCA(n_components=2)\n",
    "pca_fit = pca.fit_transform(df_model)\n",
    "plot_num = 1\n",
    "\n",
    "X = df_model\n",
    "\n",
    "params = {\"n_clusters\": 5}\n",
    "ward = cluster.AgglomerativeClustering(\n",
    "    n_clusters=params[\"n_clusters\"], linkage=\"ward\"\n",
    ")\n",
    "complete = cluster.AgglomerativeClustering(\n",
    "    n_clusters=params[\"n_clusters\"], linkage=\"complete\"\n",
    ")\n",
    "average = cluster.AgglomerativeClustering(\n",
    "    n_clusters=params[\"n_clusters\"], linkage=\"average\"\n",
    ")\n",
    "single = cluster.AgglomerativeClustering(\n",
    "    n_clusters=params[\"n_clusters\"], linkage=\"single\")\n",
    "\n",
    "clustering_algorithms = (\n",
    "    (\"Single Linkage\", single),\n",
    "    (\"Average Linkage\", average),\n",
    "    (\"Complete Linkage\", complete),\n",
    "    (\"Ward Linkage\", ward),\n",
    ")\n",
    "\n",
    "for name, algorithm in clustering_algorithms:\n",
    "    t0 = time.time()\n",
    "    # catch warnings related to kneighbors_graph\n",
    "    with warnings.catch_warnings():\n",
    "        warnings.filterwarnings(\n",
    "            \"ignore\",\n",
    "            message=\"the number of connected components of the \"\n",
    "            + \"connectivity matrix is [0-9]{1,2}\"\n",
    "            + \" > 1. Completing it to avoid stopping the tree early.\",\n",
    "            category=UserWarning,\n",
    "        )\n",
    "        algorithm.fit(X)\n",
    "\n",
    "    t1 = time.time()\n",
    "    if hasattr(algorithm, \"labels_\"):\n",
    "        y_pred = algorithm.labels_.astype(int)\n",
    "    else:\n",
    "        y_pred = algorithm.predict(X)\n",
    "\n",
    "    plt.subplot(1, len(clustering_algorithms), plot_num)\n",
    "    plt.title(name, size=18)\n",
    "\n",
    "    colors = np.array(\n",
    "        list(\n",
    "            islice(\n",
    "                cycle(\n",
    "                    [\n",
    "                        \"#377eb8\",\n",
    "                        \"#ff7f00\",\n",
    "                        \"#4daf4a\",\n",
    "                        \"#f781bf\",\n",
    "                        \"#a65628\",\n",
    "                        \"#984ea3\",\n",
    "                        \"#999999\",\n",
    "                        \"#e41a1c\",\n",
    "                        \"#dede00\",\n",
    "                    ]\n",
    "                ),\n",
    "                int(max(y_pred) + 1),\n",
    "            )\n",
    "        )\n",
    "    )\n",
    "    df_pca2 = pd.DataFrame(data=pca_fit, columns=['PC1', 'PC2'])\n",
    "    plt.scatter(\n",
    "        df_pca2.iloc[:, 0], df_pca2.iloc[:, 1], marker=\".\", s=30, lw=0, alpha=0.7, c=colors[y_pred], edgecolor=\"k\"\n",
    "    )\n",
    "    plt.text(\n",
    "        0.99,\n",
    "        0.01,\n",
    "        (\"%.2fs\" % (t1 - t0)).lstrip(\"0\"),\n",
    "        transform=plt.gca().transAxes,\n",
    "        size=15,\n",
    "        horizontalalignment=\"right\",\n",
    "    )\n",
    "    plot_num += 1\n",
    "\n",
    "plt.show()"
   ]
  }
 ],
 "metadata": {
  "kernelspec": {
   "display_name": "Python 3 (ipykernel)",
   "language": "python",
   "name": "python3"
  },
  "language_info": {
   "codemirror_mode": {
    "name": "ipython",
    "version": 3
   },
   "file_extension": ".py",
   "mimetype": "text/x-python",
   "name": "python",
   "nbconvert_exporter": "python",
   "pygments_lexer": "ipython3",
   "version": "3.9.7"
  }
 },
 "nbformat": 4,
 "nbformat_minor": 1
}
