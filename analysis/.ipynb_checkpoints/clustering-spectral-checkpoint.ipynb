{
 "cells": [
  {
   "cell_type": "code",
   "execution_count": 1,
   "metadata": {
    "pycharm": {
     "name": "#%%\n"
    }
   },
   "outputs": [],
   "source": [
    "import pandas as pd\n",
    "\n",
    "Big_Five = pd.read_csv('../data/data.csv',index_col=0)"
   ]
  },
  {
   "cell_type": "code",
   "execution_count": 2,
   "metadata": {
    "pycharm": {
     "name": "#%%\n"
    }
   },
   "outputs": [],
   "source": [
    "from sklearn.decomposition import PCA\n",
    "import seaborn as sns\n",
    "\n",
    "def show_clusters_size(clusters):\n",
    "    unique, counts = np.unique(clusters, return_counts=True)\n",
    "    print(dict(zip(unique, counts)))"
   ]
  },
  {
   "cell_type": "markdown",
   "metadata": {},
   "source": [
    "# Spectral Clustering (100)"
   ]
  },
  {
   "cell_type": "code",
   "execution_count": 3,
   "metadata": {
    "pycharm": {
     "name": "#%%\n"
    }
   },
   "outputs": [
    {
     "data": {
      "text/html": [
       "<div>\n",
       "<style scoped>\n",
       "    .dataframe tbody tr th:only-of-type {\n",
       "        vertical-align: middle;\n",
       "    }\n",
       "\n",
       "    .dataframe tbody tr th {\n",
       "        vertical-align: top;\n",
       "    }\n",
       "\n",
       "    .dataframe thead th {\n",
       "        text-align: right;\n",
       "    }\n",
       "</style>\n",
       "<table border=\"1\" class=\"dataframe\">\n",
       "  <thead>\n",
       "    <tr style=\"text-align: right;\">\n",
       "      <th></th>\n",
       "      <th>EXT1</th>\n",
       "      <th>EXT2</th>\n",
       "      <th>EXT3</th>\n",
       "      <th>EXT4</th>\n",
       "      <th>EXT5</th>\n",
       "      <th>EXT6</th>\n",
       "      <th>EXT7</th>\n",
       "      <th>EXT8</th>\n",
       "      <th>EXT9</th>\n",
       "      <th>EXT10</th>\n",
       "      <th>...</th>\n",
       "      <th>OPN1_E</th>\n",
       "      <th>OPN2_E</th>\n",
       "      <th>OPN3_E</th>\n",
       "      <th>OPN4_E</th>\n",
       "      <th>OPN5_E</th>\n",
       "      <th>OPN6_E</th>\n",
       "      <th>OPN7_E</th>\n",
       "      <th>OPN8_E</th>\n",
       "      <th>OPN9_E</th>\n",
       "      <th>OPN10_E</th>\n",
       "    </tr>\n",
       "    <tr>\n",
       "      <th>id</th>\n",
       "      <th></th>\n",
       "      <th></th>\n",
       "      <th></th>\n",
       "      <th></th>\n",
       "      <th></th>\n",
       "      <th></th>\n",
       "      <th></th>\n",
       "      <th></th>\n",
       "      <th></th>\n",
       "      <th></th>\n",
       "      <th></th>\n",
       "      <th></th>\n",
       "      <th></th>\n",
       "      <th></th>\n",
       "      <th></th>\n",
       "      <th></th>\n",
       "      <th></th>\n",
       "      <th></th>\n",
       "      <th></th>\n",
       "      <th></th>\n",
       "      <th></th>\n",
       "    </tr>\n",
       "  </thead>\n",
       "  <tbody>\n",
       "    <tr>\n",
       "      <th>185102</th>\n",
       "      <td>4.0</td>\n",
       "      <td>3.0</td>\n",
       "      <td>3.0</td>\n",
       "      <td>3.0</td>\n",
       "      <td>4.0</td>\n",
       "      <td>3.0</td>\n",
       "      <td>4.0</td>\n",
       "      <td>3.0</td>\n",
       "      <td>3.0</td>\n",
       "      <td>2.0</td>\n",
       "      <td>...</td>\n",
       "      <td>1.864</td>\n",
       "      <td>5.073</td>\n",
       "      <td>1.977</td>\n",
       "      <td>4.770</td>\n",
       "      <td>1.722</td>\n",
       "      <td>5.284</td>\n",
       "      <td>2.854</td>\n",
       "      <td>1.519</td>\n",
       "      <td>2.816</td>\n",
       "      <td>1.610</td>\n",
       "    </tr>\n",
       "    <tr>\n",
       "      <th>562554</th>\n",
       "      <td>4.0</td>\n",
       "      <td>5.0</td>\n",
       "      <td>4.0</td>\n",
       "      <td>4.0</td>\n",
       "      <td>4.0</td>\n",
       "      <td>5.0</td>\n",
       "      <td>4.0</td>\n",
       "      <td>4.0</td>\n",
       "      <td>4.0</td>\n",
       "      <td>4.0</td>\n",
       "      <td>...</td>\n",
       "      <td>1.510</td>\n",
       "      <td>2.516</td>\n",
       "      <td>9.678</td>\n",
       "      <td>2.009</td>\n",
       "      <td>2.758</td>\n",
       "      <td>2.233</td>\n",
       "      <td>1.445</td>\n",
       "      <td>6.064</td>\n",
       "      <td>1.238</td>\n",
       "      <td>0.910</td>\n",
       "    </tr>\n",
       "    <tr>\n",
       "      <th>169410</th>\n",
       "      <td>5.0</td>\n",
       "      <td>4.0</td>\n",
       "      <td>5.0</td>\n",
       "      <td>4.0</td>\n",
       "      <td>5.0</td>\n",
       "      <td>5.0</td>\n",
       "      <td>4.0</td>\n",
       "      <td>3.0</td>\n",
       "      <td>4.0</td>\n",
       "      <td>3.0</td>\n",
       "      <td>...</td>\n",
       "      <td>4.765</td>\n",
       "      <td>6.520</td>\n",
       "      <td>1.614</td>\n",
       "      <td>20.988</td>\n",
       "      <td>1.645</td>\n",
       "      <td>3.468</td>\n",
       "      <td>6.029</td>\n",
       "      <td>3.884</td>\n",
       "      <td>19.951</td>\n",
       "      <td>4.888</td>\n",
       "    </tr>\n",
       "    <tr>\n",
       "      <th>1005935</th>\n",
       "      <td>4.0</td>\n",
       "      <td>4.0</td>\n",
       "      <td>5.0</td>\n",
       "      <td>4.0</td>\n",
       "      <td>3.0</td>\n",
       "      <td>4.0</td>\n",
       "      <td>4.0</td>\n",
       "      <td>4.0</td>\n",
       "      <td>5.0</td>\n",
       "      <td>3.0</td>\n",
       "      <td>...</td>\n",
       "      <td>4.014</td>\n",
       "      <td>4.246</td>\n",
       "      <td>4.200</td>\n",
       "      <td>4.451</td>\n",
       "      <td>3.253</td>\n",
       "      <td>3.168</td>\n",
       "      <td>3.782</td>\n",
       "      <td>3.445</td>\n",
       "      <td>4.783</td>\n",
       "      <td>1.968</td>\n",
       "    </tr>\n",
       "    <tr>\n",
       "      <th>334430</th>\n",
       "      <td>3.0</td>\n",
       "      <td>4.0</td>\n",
       "      <td>4.0</td>\n",
       "      <td>1.0</td>\n",
       "      <td>3.0</td>\n",
       "      <td>4.0</td>\n",
       "      <td>3.0</td>\n",
       "      <td>4.0</td>\n",
       "      <td>5.0</td>\n",
       "      <td>2.0</td>\n",
       "      <td>...</td>\n",
       "      <td>5.267</td>\n",
       "      <td>5.060</td>\n",
       "      <td>4.892</td>\n",
       "      <td>4.553</td>\n",
       "      <td>4.345</td>\n",
       "      <td>6.548</td>\n",
       "      <td>4.179</td>\n",
       "      <td>7.282</td>\n",
       "      <td>6.753</td>\n",
       "      <td>4.403</td>\n",
       "    </tr>\n",
       "  </tbody>\n",
       "</table>\n",
       "<p>5 rows × 100 columns</p>\n",
       "</div>"
      ],
      "text/plain": [
       "         EXT1  EXT2  EXT3  EXT4  EXT5  EXT6  EXT7  EXT8  EXT9  EXT10  ...  \\\n",
       "id                                                                    ...   \n",
       "185102    4.0   3.0   3.0   3.0   4.0   3.0   4.0   3.0   3.0    2.0  ...   \n",
       "562554    4.0   5.0   4.0   4.0   4.0   5.0   4.0   4.0   4.0    4.0  ...   \n",
       "169410    5.0   4.0   5.0   4.0   5.0   5.0   4.0   3.0   4.0    3.0  ...   \n",
       "1005935   4.0   4.0   5.0   4.0   3.0   4.0   4.0   4.0   5.0    3.0  ...   \n",
       "334430    3.0   4.0   4.0   1.0   3.0   4.0   3.0   4.0   5.0    2.0  ...   \n",
       "\n",
       "         OPN1_E  OPN2_E  OPN3_E  OPN4_E  OPN5_E  OPN6_E  OPN7_E  OPN8_E  \\\n",
       "id                                                                        \n",
       "185102    1.864   5.073   1.977   4.770   1.722   5.284   2.854   1.519   \n",
       "562554    1.510   2.516   9.678   2.009   2.758   2.233   1.445   6.064   \n",
       "169410    4.765   6.520   1.614  20.988   1.645   3.468   6.029   3.884   \n",
       "1005935   4.014   4.246   4.200   4.451   3.253   3.168   3.782   3.445   \n",
       "334430    5.267   5.060   4.892   4.553   4.345   6.548   4.179   7.282   \n",
       "\n",
       "         OPN9_E  OPN10_E  \n",
       "id                        \n",
       "185102    2.816    1.610  \n",
       "562554    1.238    0.910  \n",
       "169410   19.951    4.888  \n",
       "1005935   4.783    1.968  \n",
       "334430    6.753    4.403  \n",
       "\n",
       "[5 rows x 100 columns]"
      ]
     },
     "execution_count": 3,
     "metadata": {},
     "output_type": "execute_result"
    }
   ],
   "source": [
    "Big_Five100=Big_Five.iloc[:,:100]\n",
    "df_model = Big_Five100.sample(2000)\n",
    "indexes = range(50,100)\n",
    "for index in indexes:\n",
    "   df_model.iloc[:,index] = df_model.iloc[:,index] / 1000\n",
    "df_model.head()"
   ]
  },
  {
   "cell_type": "code",
   "execution_count": 4,
   "metadata": {
    "pycharm": {
     "name": "#%%\n"
    }
   },
   "outputs": [
    {
     "data": {
      "text/plain": [
       "<AxesSubplot:>"
      ]
     },
     "execution_count": 4,
     "metadata": {},
     "output_type": "execute_result"
    },
    {
     "data": {
      "image/png": "[encoded data removed]",
      "text/plain": [
       "<Figure size 432x288 with 1 Axes>"
      ]
     },
     "metadata": {
      "needs_background": "light"
     },
     "output_type": "display_data"
    }
   ],
   "source": [
    "import seaborn as sns\n",
    "\n",
    "sns.boxplot(data=df_model)"
   ]
  },
  {
   "cell_type": "code",
   "execution_count": 5,
   "metadata": {
    "pycharm": {
     "name": "#%%\n"
    }
   },
   "outputs": [
    {
     "data": {
      "text/plain": [
       "<AxesSubplot:>"
      ]
     },
     "execution_count": 5,
     "metadata": {},
     "output_type": "execute_result"
    },
    {
     "data": {
      "image/png": "[encoded data removed]",
      "text/plain": [
       "<Figure size 432x288 with 1 Axes>"
      ]
     },
     "metadata": {
      "needs_background": "light"
     },
     "output_type": "display_data"
    }
   ],
   "source": [
    "import numpy as np\n",
    "from scipy.stats import stats\n",
    "\n",
    "Q1 = df_model.quantile(0.25)\n",
    "Q3 = df_model.quantile(0.75)\n",
    "IQR = Q3 - Q1\n",
    "df_model_out = df_model[~((df_model < (Q1 - 40 * IQR)) |(df_model > (Q3 + 40 * IQR))).any(axis=1)]\n",
    "z = np.abs(stats.zscore(df_model_out))\n",
    "df_model_out =df_model_out[(z < 3).all(axis=1)]\n",
    "sns.boxplot(data=df_model_out)"
   ]
  },
  {
   "cell_type": "code",
   "execution_count": 6,
   "metadata": {
    "pycharm": {
     "name": "#%%\n"
    }
   },
   "outputs": [
    {
     "data": {
      "text/plain": [
       "(1135, 100)"
      ]
     },
     "execution_count": 6,
     "metadata": {},
     "output_type": "execute_result"
    }
   ],
   "source": [
    "df_model_out.shape"
   ]
  },
  {
   "cell_type": "code",
   "execution_count": 7,
   "metadata": {
    "pycharm": {
     "name": "#%%\n"
    }
   },
   "outputs": [
    {
     "data": {
      "text/plain": [
       "0.7461693244156928"
      ]
     },
     "execution_count": 7,
     "metadata": {},
     "output_type": "execute_result"
    }
   ],
   "source": [
    "from pyclustertend import hopkins\n",
    "\n",
    "1-hopkins(df_model_out, df_model_out.shape[0])"
   ]
  },
  {
   "cell_type": "code",
   "execution_count": 8,
   "metadata": {
    "pycharm": {
     "name": "#%%\n"
    }
   },
   "outputs": [
    {
     "name": "stderr",
     "output_type": "stream",
     "text": [
      "/opt/anaconda3/lib/python3.9/site-packages/sklearn/manifold/_spectral_embedding.py:245: UserWarning: Graph is not fully connected, spectral embedding may not work as expected.\n",
      "  warnings.warn(\"Graph is not fully connected, spectral embedding\"\n",
      "/opt/anaconda3/lib/python3.9/site-packages/numpy/core/_methods.py:232: RuntimeWarning: overflow encountered in multiply\n",
      "  x = um.multiply(x, x, out=x)\n",
      "/opt/anaconda3/lib/python3.9/site-packages/sklearn/utils/extmath.py:152: RuntimeWarning: overflow encountered in matmul\n",
      "  ret = a @ b\n",
      "/opt/anaconda3/lib/python3.9/site-packages/sklearn/metrics/pairwise.py:313: RuntimeWarning: overflow encountered in multiply\n",
      "  distances = - 2 * safe_sparse_dot(X, Y.T, dense_output=True)\n",
      "/opt/anaconda3/lib/python3.9/site-packages/sklearn/metrics/pairwise.py:314: RuntimeWarning: invalid value encountered in add\n",
      "  distances += XX\n",
      "/opt/anaconda3/lib/python3.9/site-packages/sklearn/utils/extmath.py:152: RuntimeWarning: overflow encountered in matmul\n",
      "  ret = a @ b\n",
      "/opt/anaconda3/lib/python3.9/site-packages/sklearn/metrics/pairwise.py:313: RuntimeWarning: overflow encountered in multiply\n",
      "  distances = - 2 * safe_sparse_dot(X, Y.T, dense_output=True)\n",
      "/opt/anaconda3/lib/python3.9/site-packages/sklearn/metrics/pairwise.py:314: RuntimeWarning: invalid value encountered in add\n",
      "  distances += XX\n",
      "/opt/anaconda3/lib/python3.9/site-packages/sklearn/utils/extmath.py:152: RuntimeWarning: overflow encountered in matmul\n",
      "  ret = a @ b\n",
      "/opt/anaconda3/lib/python3.9/site-packages/sklearn/metrics/pairwise.py:313: RuntimeWarning: overflow encountered in multiply\n",
      "  distances = - 2 * safe_sparse_dot(X, Y.T, dense_output=True)\n",
      "/opt/anaconda3/lib/python3.9/site-packages/sklearn/metrics/pairwise.py:314: RuntimeWarning: invalid value encountered in add\n",
      "  distances += XX\n",
      "/opt/anaconda3/lib/python3.9/site-packages/sklearn/utils/extmath.py:152: RuntimeWarning: overflow encountered in matmul\n",
      "  ret = a @ b\n",
      "/opt/anaconda3/lib/python3.9/site-packages/sklearn/metrics/pairwise.py:313: RuntimeWarning: overflow encountered in multiply\n",
      "  distances = - 2 * safe_sparse_dot(X, Y.T, dense_output=True)\n",
      "/opt/anaconda3/lib/python3.9/site-packages/sklearn/metrics/pairwise.py:314: RuntimeWarning: invalid value encountered in add\n",
      "  distances += XX\n",
      "/opt/anaconda3/lib/python3.9/site-packages/sklearn/utils/extmath.py:152: RuntimeWarning: overflow encountered in matmul\n",
      "  ret = a @ b\n",
      "/opt/anaconda3/lib/python3.9/site-packages/sklearn/metrics/pairwise.py:314: RuntimeWarning: invalid value encountered in add\n",
      "  distances += XX\n",
      "/opt/anaconda3/lib/python3.9/site-packages/sklearn/cluster/_kmeans.py:385: RuntimeWarning: overflow encountered in square\n",
      "  elkan_iter(X, sample_weight, centers, centers_new,\n",
      "/opt/anaconda3/lib/python3.9/site-packages/sklearn/utils/extmath.py:152: RuntimeWarning: overflow encountered in matmul\n",
      "  ret = a @ b\n",
      "/opt/anaconda3/lib/python3.9/site-packages/sklearn/metrics/pairwise.py:314: RuntimeWarning: invalid value encountered in add\n",
      "  distances += XX\n",
      "/opt/anaconda3/lib/python3.9/site-packages/sklearn/utils/extmath.py:152: RuntimeWarning: overflow encountered in matmul\n",
      "  ret = a @ b\n",
      "/opt/anaconda3/lib/python3.9/site-packages/sklearn/metrics/pairwise.py:313: RuntimeWarning: overflow encountered in multiply\n",
      "  distances = - 2 * safe_sparse_dot(X, Y.T, dense_output=True)\n",
      "/opt/anaconda3/lib/python3.9/site-packages/sklearn/metrics/pairwise.py:314: RuntimeWarning: invalid value encountered in add\n",
      "  distances += XX\n",
      "/opt/anaconda3/lib/python3.9/site-packages/sklearn/utils/extmath.py:152: RuntimeWarning: overflow encountered in matmul\n",
      "  ret = a @ b\n",
      "/opt/anaconda3/lib/python3.9/site-packages/sklearn/metrics/pairwise.py:313: RuntimeWarning: overflow encountered in multiply\n",
      "  distances = - 2 * safe_sparse_dot(X, Y.T, dense_output=True)\n",
      "/opt/anaconda3/lib/python3.9/site-packages/sklearn/metrics/pairwise.py:314: RuntimeWarning: invalid value encountered in add\n",
      "  distances += XX\n",
      "/opt/anaconda3/lib/python3.9/site-packages/sklearn/utils/extmath.py:152: RuntimeWarning: overflow encountered in matmul\n",
      "  ret = a @ b\n",
      "/opt/anaconda3/lib/python3.9/site-packages/sklearn/metrics/pairwise.py:313: RuntimeWarning: overflow encountered in multiply\n",
      "  distances = - 2 * safe_sparse_dot(X, Y.T, dense_output=True)\n",
      "/opt/anaconda3/lib/python3.9/site-packages/sklearn/metrics/pairwise.py:314: RuntimeWarning: invalid value encountered in add\n",
      "  distances += XX\n",
      "/opt/anaconda3/lib/python3.9/site-packages/sklearn/utils/extmath.py:152: RuntimeWarning: overflow encountered in matmul\n",
      "  ret = a @ b\n",
      "/opt/anaconda3/lib/python3.9/site-packages/sklearn/metrics/pairwise.py:313: RuntimeWarning: overflow encountered in multiply\n",
      "  distances = - 2 * safe_sparse_dot(X, Y.T, dense_output=True)\n",
      "/opt/anaconda3/lib/python3.9/site-packages/sklearn/metrics/pairwise.py:314: RuntimeWarning: invalid value encountered in add\n",
      "  distances += XX\n",
      "/opt/anaconda3/lib/python3.9/site-packages/sklearn/utils/extmath.py:152: RuntimeWarning: overflow encountered in matmul\n",
      "  ret = a @ b\n",
      "/opt/anaconda3/lib/python3.9/site-packages/sklearn/metrics/pairwise.py:314: RuntimeWarning: invalid value encountered in add\n",
      "  distances += XX\n",
      "/opt/anaconda3/lib/python3.9/site-packages/sklearn/cluster/_kmeans.py:385: RuntimeWarning: overflow encountered in square\n",
      "  elkan_iter(X, sample_weight, centers, centers_new,\n",
      "/opt/anaconda3/lib/python3.9/site-packages/sklearn/utils/extmath.py:152: RuntimeWarning: overflow encountered in matmul\n",
      "  ret = a @ b\n",
      "/opt/anaconda3/lib/python3.9/site-packages/sklearn/metrics/pairwise.py:314: RuntimeWarning: invalid value encountered in add\n",
      "  distances += XX\n",
      "/opt/anaconda3/lib/python3.9/site-packages/sklearn/utils/extmath.py:152: RuntimeWarning: overflow encountered in matmul\n",
      "  ret = a @ b\n",
      "/opt/anaconda3/lib/python3.9/site-packages/sklearn/metrics/pairwise.py:313: RuntimeWarning: overflow encountered in multiply\n",
      "  distances = - 2 * safe_sparse_dot(X, Y.T, dense_output=True)\n",
      "/opt/anaconda3/lib/python3.9/site-packages/sklearn/metrics/pairwise.py:314: RuntimeWarning: invalid value encountered in add\n",
      "  distances += XX\n",
      "/opt/anaconda3/lib/python3.9/site-packages/sklearn/utils/extmath.py:152: RuntimeWarning: overflow encountered in matmul\n",
      "  ret = a @ b\n",
      "/opt/anaconda3/lib/python3.9/site-packages/sklearn/metrics/pairwise.py:313: RuntimeWarning: overflow encountered in multiply\n",
      "  distances = - 2 * safe_sparse_dot(X, Y.T, dense_output=True)\n",
      "/opt/anaconda3/lib/python3.9/site-packages/sklearn/metrics/pairwise.py:314: RuntimeWarning: invalid value encountered in add\n",
      "  distances += XX\n",
      "/opt/anaconda3/lib/python3.9/site-packages/sklearn/utils/extmath.py:152: RuntimeWarning: overflow encountered in matmul\n",
      "  ret = a @ b\n",
      "/opt/anaconda3/lib/python3.9/site-packages/sklearn/metrics/pairwise.py:313: RuntimeWarning: overflow encountered in multiply\n",
      "  distances = - 2 * safe_sparse_dot(X, Y.T, dense_output=True)\n",
      "/opt/anaconda3/lib/python3.9/site-packages/sklearn/metrics/pairwise.py:314: RuntimeWarning: invalid value encountered in add\n",
      "  distances += XX\n",
      "/opt/anaconda3/lib/python3.9/site-packages/sklearn/utils/extmath.py:152: RuntimeWarning: overflow encountered in matmul\n",
      "  ret = a @ b\n",
      "/opt/anaconda3/lib/python3.9/site-packages/sklearn/metrics/pairwise.py:313: RuntimeWarning: overflow encountered in multiply\n",
      "  distances = - 2 * safe_sparse_dot(X, Y.T, dense_output=True)\n",
      "/opt/anaconda3/lib/python3.9/site-packages/sklearn/metrics/pairwise.py:314: RuntimeWarning: invalid value encountered in add\n",
      "  distances += XX\n",
      "/opt/anaconda3/lib/python3.9/site-packages/sklearn/utils/extmath.py:152: RuntimeWarning: overflow encountered in matmul\n",
      "  ret = a @ b\n",
      "/opt/anaconda3/lib/python3.9/site-packages/sklearn/metrics/pairwise.py:314: RuntimeWarning: invalid value encountered in add\n",
      "  distances += XX\n",
      "/opt/anaconda3/lib/python3.9/site-packages/sklearn/cluster/_kmeans.py:385: RuntimeWarning: overflow encountered in square\n",
      "  elkan_iter(X, sample_weight, centers, centers_new,\n",
      "/opt/anaconda3/lib/python3.9/site-packages/sklearn/utils/extmath.py:152: RuntimeWarning: overflow encountered in matmul\n",
      "  ret = a @ b\n",
      "/opt/anaconda3/lib/python3.9/site-packages/sklearn/metrics/pairwise.py:314: RuntimeWarning: invalid value encountered in add\n",
      "  distances += XX\n",
      "/opt/anaconda3/lib/python3.9/site-packages/sklearn/utils/extmath.py:152: RuntimeWarning: overflow encountered in matmul\n",
      "  ret = a @ b\n",
      "/opt/anaconda3/lib/python3.9/site-packages/sklearn/metrics/pairwise.py:313: RuntimeWarning: overflow encountered in multiply\n",
      "  distances = - 2 * safe_sparse_dot(X, Y.T, dense_output=True)\n",
      "/opt/anaconda3/lib/python3.9/site-packages/sklearn/metrics/pairwise.py:314: RuntimeWarning: invalid value encountered in add\n",
      "  distances += XX\n",
      "/opt/anaconda3/lib/python3.9/site-packages/sklearn/utils/extmath.py:152: RuntimeWarning: overflow encountered in matmul\n",
      "  ret = a @ b\n",
      "/opt/anaconda3/lib/python3.9/site-packages/sklearn/metrics/pairwise.py:313: RuntimeWarning: overflow encountered in multiply\n",
      "  distances = - 2 * safe_sparse_dot(X, Y.T, dense_output=True)\n",
      "/opt/anaconda3/lib/python3.9/site-packages/sklearn/metrics/pairwise.py:314: RuntimeWarning: invalid value encountered in add\n",
      "  distances += XX\n",
      "/opt/anaconda3/lib/python3.9/site-packages/sklearn/utils/extmath.py:152: RuntimeWarning: overflow encountered in matmul\n",
      "  ret = a @ b\n",
      "/opt/anaconda3/lib/python3.9/site-packages/sklearn/metrics/pairwise.py:313: RuntimeWarning: overflow encountered in multiply\n",
      "  distances = - 2 * safe_sparse_dot(X, Y.T, dense_output=True)\n",
      "/opt/anaconda3/lib/python3.9/site-packages/sklearn/metrics/pairwise.py:314: RuntimeWarning: invalid value encountered in add\n",
      "  distances += XX\n",
      "/opt/anaconda3/lib/python3.9/site-packages/sklearn/utils/extmath.py:152: RuntimeWarning: overflow encountered in matmul\n",
      "  ret = a @ b\n",
      "/opt/anaconda3/lib/python3.9/site-packages/sklearn/metrics/pairwise.py:313: RuntimeWarning: overflow encountered in multiply\n",
      "  distances = - 2 * safe_sparse_dot(X, Y.T, dense_output=True)\n",
      "/opt/anaconda3/lib/python3.9/site-packages/sklearn/metrics/pairwise.py:314: RuntimeWarning: invalid value encountered in add\n",
      "  distances += XX\n",
      "/opt/anaconda3/lib/python3.9/site-packages/sklearn/utils/extmath.py:152: RuntimeWarning: overflow encountered in matmul\n",
      "  ret = a @ b\n",
      "/opt/anaconda3/lib/python3.9/site-packages/sklearn/metrics/pairwise.py:314: RuntimeWarning: invalid value encountered in add\n",
      "  distances += XX\n",
      "/opt/anaconda3/lib/python3.9/site-packages/sklearn/cluster/_kmeans.py:385: RuntimeWarning: overflow encountered in square\n",
      "  elkan_iter(X, sample_weight, centers, centers_new,\n",
      "/opt/anaconda3/lib/python3.9/site-packages/sklearn/utils/extmath.py:152: RuntimeWarning: overflow encountered in matmul\n",
      "  ret = a @ b\n",
      "/opt/anaconda3/lib/python3.9/site-packages/sklearn/metrics/pairwise.py:314: RuntimeWarning: invalid value encountered in add\n",
      "  distances += XX\n",
      "/opt/anaconda3/lib/python3.9/site-packages/sklearn/utils/extmath.py:152: RuntimeWarning: overflow encountered in matmul\n",
      "  ret = a @ b\n",
      "/opt/anaconda3/lib/python3.9/site-packages/sklearn/metrics/pairwise.py:313: RuntimeWarning: overflow encountered in multiply\n",
      "  distances = - 2 * safe_sparse_dot(X, Y.T, dense_output=True)\n",
      "/opt/anaconda3/lib/python3.9/site-packages/sklearn/metrics/pairwise.py:314: RuntimeWarning: invalid value encountered in add\n",
      "  distances += XX\n",
      "/opt/anaconda3/lib/python3.9/site-packages/sklearn/utils/extmath.py:152: RuntimeWarning: overflow encountered in matmul\n",
      "  ret = a @ b\n",
      "/opt/anaconda3/lib/python3.9/site-packages/sklearn/metrics/pairwise.py:313: RuntimeWarning: overflow encountered in multiply\n",
      "  distances = - 2 * safe_sparse_dot(X, Y.T, dense_output=True)\n",
      "/opt/anaconda3/lib/python3.9/site-packages/sklearn/metrics/pairwise.py:314: RuntimeWarning: invalid value encountered in add\n",
      "  distances += XX\n",
      "/opt/anaconda3/lib/python3.9/site-packages/sklearn/utils/extmath.py:152: RuntimeWarning: overflow encountered in matmul\n",
      "  ret = a @ b\n",
      "/opt/anaconda3/lib/python3.9/site-packages/sklearn/metrics/pairwise.py:313: RuntimeWarning: overflow encountered in multiply\n",
      "  distances = - 2 * safe_sparse_dot(X, Y.T, dense_output=True)\n",
      "/opt/anaconda3/lib/python3.9/site-packages/sklearn/metrics/pairwise.py:314: RuntimeWarning: invalid value encountered in add\n",
      "  distances += XX\n",
      "/opt/anaconda3/lib/python3.9/site-packages/sklearn/utils/extmath.py:152: RuntimeWarning: overflow encountered in matmul\n",
      "  ret = a @ b\n",
      "/opt/anaconda3/lib/python3.9/site-packages/sklearn/metrics/pairwise.py:313: RuntimeWarning: overflow encountered in multiply\n",
      "  distances = - 2 * safe_sparse_dot(X, Y.T, dense_output=True)\n",
      "/opt/anaconda3/lib/python3.9/site-packages/sklearn/metrics/pairwise.py:314: RuntimeWarning: invalid value encountered in add\n",
      "  distances += XX\n",
      "/opt/anaconda3/lib/python3.9/site-packages/sklearn/utils/extmath.py:152: RuntimeWarning: overflow encountered in matmul\n",
      "  ret = a @ b\n",
      "/opt/anaconda3/lib/python3.9/site-packages/sklearn/metrics/pairwise.py:314: RuntimeWarning: invalid value encountered in add\n",
      "  distances += XX\n",
      "/opt/anaconda3/lib/python3.9/site-packages/sklearn/cluster/_kmeans.py:385: RuntimeWarning: overflow encountered in square\n",
      "  elkan_iter(X, sample_weight, centers, centers_new,\n",
      "/opt/anaconda3/lib/python3.9/site-packages/sklearn/utils/extmath.py:152: RuntimeWarning: overflow encountered in matmul\n",
      "  ret = a @ b\n",
      "/opt/anaconda3/lib/python3.9/site-packages/sklearn/metrics/pairwise.py:314: RuntimeWarning: invalid value encountered in add\n",
      "  distances += XX\n",
      "/opt/anaconda3/lib/python3.9/site-packages/sklearn/utils/extmath.py:152: RuntimeWarning: overflow encountered in matmul\n",
      "  ret = a @ b\n",
      "/opt/anaconda3/lib/python3.9/site-packages/sklearn/metrics/pairwise.py:313: RuntimeWarning: overflow encountered in multiply\n",
      "  distances = - 2 * safe_sparse_dot(X, Y.T, dense_output=True)\n",
      "/opt/anaconda3/lib/python3.9/site-packages/sklearn/metrics/pairwise.py:314: RuntimeWarning: invalid value encountered in add\n",
      "  distances += XX\n",
      "/opt/anaconda3/lib/python3.9/site-packages/sklearn/utils/extmath.py:152: RuntimeWarning: overflow encountered in matmul\n",
      "  ret = a @ b\n",
      "/opt/anaconda3/lib/python3.9/site-packages/sklearn/metrics/pairwise.py:313: RuntimeWarning: overflow encountered in multiply\n",
      "  distances = - 2 * safe_sparse_dot(X, Y.T, dense_output=True)\n",
      "/opt/anaconda3/lib/python3.9/site-packages/sklearn/metrics/pairwise.py:314: RuntimeWarning: invalid value encountered in add\n",
      "  distances += XX\n",
      "/opt/anaconda3/lib/python3.9/site-packages/sklearn/utils/extmath.py:152: RuntimeWarning: overflow encountered in matmul\n",
      "  ret = a @ b\n",
      "/opt/anaconda3/lib/python3.9/site-packages/sklearn/metrics/pairwise.py:313: RuntimeWarning: overflow encountered in multiply\n",
      "  distances = - 2 * safe_sparse_dot(X, Y.T, dense_output=True)\n",
      "/opt/anaconda3/lib/python3.9/site-packages/sklearn/metrics/pairwise.py:314: RuntimeWarning: invalid value encountered in add\n",
      "  distances += XX\n",
      "/opt/anaconda3/lib/python3.9/site-packages/sklearn/utils/extmath.py:152: RuntimeWarning: overflow encountered in matmul\n",
      "  ret = a @ b\n",
      "/opt/anaconda3/lib/python3.9/site-packages/sklearn/metrics/pairwise.py:313: RuntimeWarning: overflow encountered in multiply\n",
      "  distances = - 2 * safe_sparse_dot(X, Y.T, dense_output=True)\n",
      "/opt/anaconda3/lib/python3.9/site-packages/sklearn/metrics/pairwise.py:314: RuntimeWarning: invalid value encountered in add\n",
      "  distances += XX\n",
      "/opt/anaconda3/lib/python3.9/site-packages/sklearn/utils/extmath.py:152: RuntimeWarning: overflow encountered in matmul\n",
      "  ret = a @ b\n",
      "/opt/anaconda3/lib/python3.9/site-packages/sklearn/metrics/pairwise.py:314: RuntimeWarning: invalid value encountered in add\n",
      "  distances += XX\n",
      "/opt/anaconda3/lib/python3.9/site-packages/sklearn/cluster/_kmeans.py:385: RuntimeWarning: overflow encountered in square\n",
      "  elkan_iter(X, sample_weight, centers, centers_new,\n",
      "/opt/anaconda3/lib/python3.9/site-packages/sklearn/utils/extmath.py:152: RuntimeWarning: overflow encountered in matmul\n",
      "  ret = a @ b\n",
      "/opt/anaconda3/lib/python3.9/site-packages/sklearn/metrics/pairwise.py:314: RuntimeWarning: invalid value encountered in add\n",
      "  distances += XX\n",
      "/opt/anaconda3/lib/python3.9/site-packages/sklearn/utils/extmath.py:152: RuntimeWarning: overflow encountered in matmul\n",
      "  ret = a @ b\n",
      "/opt/anaconda3/lib/python3.9/site-packages/sklearn/metrics/pairwise.py:313: RuntimeWarning: overflow encountered in multiply\n",
      "  distances = - 2 * safe_sparse_dot(X, Y.T, dense_output=True)\n",
      "/opt/anaconda3/lib/python3.9/site-packages/sklearn/metrics/pairwise.py:314: RuntimeWarning: invalid value encountered in add\n",
      "  distances += XX\n",
      "/opt/anaconda3/lib/python3.9/site-packages/sklearn/utils/extmath.py:152: RuntimeWarning: overflow encountered in matmul\n",
      "  ret = a @ b\n",
      "/opt/anaconda3/lib/python3.9/site-packages/sklearn/metrics/pairwise.py:313: RuntimeWarning: overflow encountered in multiply\n",
      "  distances = - 2 * safe_sparse_dot(X, Y.T, dense_output=True)\n",
      "/opt/anaconda3/lib/python3.9/site-packages/sklearn/metrics/pairwise.py:314: RuntimeWarning: invalid value encountered in add\n",
      "  distances += XX\n",
      "/opt/anaconda3/lib/python3.9/site-packages/sklearn/utils/extmath.py:152: RuntimeWarning: overflow encountered in matmul\n",
      "  ret = a @ b\n",
      "/opt/anaconda3/lib/python3.9/site-packages/sklearn/metrics/pairwise.py:313: RuntimeWarning: overflow encountered in multiply\n",
      "  distances = - 2 * safe_sparse_dot(X, Y.T, dense_output=True)\n",
      "/opt/anaconda3/lib/python3.9/site-packages/sklearn/metrics/pairwise.py:314: RuntimeWarning: invalid value encountered in add\n",
      "  distances += XX\n",
      "/opt/anaconda3/lib/python3.9/site-packages/sklearn/utils/extmath.py:152: RuntimeWarning: overflow encountered in matmul\n",
      "  ret = a @ b\n",
      "/opt/anaconda3/lib/python3.9/site-packages/sklearn/metrics/pairwise.py:313: RuntimeWarning: overflow encountered in multiply\n",
      "  distances = - 2 * safe_sparse_dot(X, Y.T, dense_output=True)\n",
      "/opt/anaconda3/lib/python3.9/site-packages/sklearn/metrics/pairwise.py:314: RuntimeWarning: invalid value encountered in add\n",
      "  distances += XX\n",
      "/opt/anaconda3/lib/python3.9/site-packages/sklearn/utils/extmath.py:152: RuntimeWarning: overflow encountered in matmul\n",
      "  ret = a @ b\n",
      "/opt/anaconda3/lib/python3.9/site-packages/sklearn/metrics/pairwise.py:314: RuntimeWarning: invalid value encountered in add\n",
      "  distances += XX\n",
      "/opt/anaconda3/lib/python3.9/site-packages/sklearn/cluster/_kmeans.py:385: RuntimeWarning: overflow encountered in square\n",
      "  elkan_iter(X, sample_weight, centers, centers_new,\n",
      "/opt/anaconda3/lib/python3.9/site-packages/sklearn/utils/extmath.py:152: RuntimeWarning: overflow encountered in matmul\n",
      "  ret = a @ b\n",
      "/opt/anaconda3/lib/python3.9/site-packages/sklearn/metrics/pairwise.py:314: RuntimeWarning: invalid value encountered in add\n",
      "  distances += XX\n",
      "/opt/anaconda3/lib/python3.9/site-packages/sklearn/utils/extmath.py:152: RuntimeWarning: overflow encountered in matmul\n",
      "  ret = a @ b\n",
      "/opt/anaconda3/lib/python3.9/site-packages/sklearn/metrics/pairwise.py:313: RuntimeWarning: overflow encountered in multiply\n",
      "  distances = - 2 * safe_sparse_dot(X, Y.T, dense_output=True)\n",
      "/opt/anaconda3/lib/python3.9/site-packages/sklearn/metrics/pairwise.py:314: RuntimeWarning: invalid value encountered in add\n",
      "  distances += XX\n",
      "/opt/anaconda3/lib/python3.9/site-packages/sklearn/utils/extmath.py:152: RuntimeWarning: overflow encountered in matmul\n",
      "  ret = a @ b\n",
      "/opt/anaconda3/lib/python3.9/site-packages/sklearn/metrics/pairwise.py:313: RuntimeWarning: overflow encountered in multiply\n",
      "  distances = - 2 * safe_sparse_dot(X, Y.T, dense_output=True)\n",
      "/opt/anaconda3/lib/python3.9/site-packages/sklearn/metrics/pairwise.py:314: RuntimeWarning: invalid value encountered in add\n",
      "  distances += XX\n",
      "/opt/anaconda3/lib/python3.9/site-packages/sklearn/utils/extmath.py:152: RuntimeWarning: overflow encountered in matmul\n",
      "  ret = a @ b\n",
      "/opt/anaconda3/lib/python3.9/site-packages/sklearn/metrics/pairwise.py:313: RuntimeWarning: overflow encountered in multiply\n",
      "  distances = - 2 * safe_sparse_dot(X, Y.T, dense_output=True)\n",
      "/opt/anaconda3/lib/python3.9/site-packages/sklearn/metrics/pairwise.py:314: RuntimeWarning: invalid value encountered in add\n",
      "  distances += XX\n",
      "/opt/anaconda3/lib/python3.9/site-packages/sklearn/utils/extmath.py:152: RuntimeWarning: overflow encountered in matmul\n",
      "  ret = a @ b\n",
      "/opt/anaconda3/lib/python3.9/site-packages/sklearn/metrics/pairwise.py:313: RuntimeWarning: overflow encountered in multiply\n",
      "  distances = - 2 * safe_sparse_dot(X, Y.T, dense_output=True)\n",
      "/opt/anaconda3/lib/python3.9/site-packages/sklearn/metrics/pairwise.py:314: RuntimeWarning: invalid value encountered in add\n",
      "  distances += XX\n",
      "/opt/anaconda3/lib/python3.9/site-packages/sklearn/utils/extmath.py:152: RuntimeWarning: overflow encountered in matmul\n",
      "  ret = a @ b\n",
      "/opt/anaconda3/lib/python3.9/site-packages/sklearn/metrics/pairwise.py:314: RuntimeWarning: invalid value encountered in add\n",
      "  distances += XX\n",
      "/opt/anaconda3/lib/python3.9/site-packages/sklearn/cluster/_kmeans.py:385: RuntimeWarning: overflow encountered in square\n",
      "  elkan_iter(X, sample_weight, centers, centers_new,\n",
      "/opt/anaconda3/lib/python3.9/site-packages/sklearn/utils/extmath.py:152: RuntimeWarning: overflow encountered in matmul\n",
      "  ret = a @ b\n",
      "/opt/anaconda3/lib/python3.9/site-packages/sklearn/metrics/pairwise.py:314: RuntimeWarning: invalid value encountered in add\n",
      "  distances += XX\n",
      "/opt/anaconda3/lib/python3.9/site-packages/sklearn/utils/extmath.py:152: RuntimeWarning: overflow encountered in matmul\n",
      "  ret = a @ b\n",
      "/opt/anaconda3/lib/python3.9/site-packages/sklearn/metrics/pairwise.py:313: RuntimeWarning: overflow encountered in multiply\n",
      "  distances = - 2 * safe_sparse_dot(X, Y.T, dense_output=True)\n",
      "/opt/anaconda3/lib/python3.9/site-packages/sklearn/metrics/pairwise.py:314: RuntimeWarning: invalid value encountered in add\n",
      "  distances += XX\n",
      "/opt/anaconda3/lib/python3.9/site-packages/sklearn/utils/extmath.py:152: RuntimeWarning: overflow encountered in matmul\n",
      "  ret = a @ b\n",
      "/opt/anaconda3/lib/python3.9/site-packages/sklearn/metrics/pairwise.py:313: RuntimeWarning: overflow encountered in multiply\n",
      "  distances = - 2 * safe_sparse_dot(X, Y.T, dense_output=True)\n",
      "/opt/anaconda3/lib/python3.9/site-packages/sklearn/metrics/pairwise.py:314: RuntimeWarning: invalid value encountered in add\n",
      "  distances += XX\n",
      "/opt/anaconda3/lib/python3.9/site-packages/sklearn/utils/extmath.py:152: RuntimeWarning: overflow encountered in matmul\n",
      "  ret = a @ b\n",
      "/opt/anaconda3/lib/python3.9/site-packages/sklearn/metrics/pairwise.py:313: RuntimeWarning: overflow encountered in multiply\n",
      "  distances = - 2 * safe_sparse_dot(X, Y.T, dense_output=True)\n",
      "/opt/anaconda3/lib/python3.9/site-packages/sklearn/metrics/pairwise.py:314: RuntimeWarning: invalid value encountered in add\n",
      "  distances += XX\n",
      "/opt/anaconda3/lib/python3.9/site-packages/sklearn/utils/extmath.py:152: RuntimeWarning: overflow encountered in matmul\n",
      "  ret = a @ b\n",
      "/opt/anaconda3/lib/python3.9/site-packages/sklearn/metrics/pairwise.py:313: RuntimeWarning: overflow encountered in multiply\n",
      "  distances = - 2 * safe_sparse_dot(X, Y.T, dense_output=True)\n",
      "/opt/anaconda3/lib/python3.9/site-packages/sklearn/metrics/pairwise.py:314: RuntimeWarning: invalid value encountered in add\n",
      "  distances += XX\n",
      "/opt/anaconda3/lib/python3.9/site-packages/sklearn/utils/extmath.py:152: RuntimeWarning: overflow encountered in matmul\n",
      "  ret = a @ b\n",
      "/opt/anaconda3/lib/python3.9/site-packages/sklearn/metrics/pairwise.py:314: RuntimeWarning: invalid value encountered in add\n",
      "  distances += XX\n",
      "/opt/anaconda3/lib/python3.9/site-packages/sklearn/cluster/_kmeans.py:385: RuntimeWarning: overflow encountered in square\n",
      "  elkan_iter(X, sample_weight, centers, centers_new,\n",
      "/opt/anaconda3/lib/python3.9/site-packages/sklearn/utils/extmath.py:152: RuntimeWarning: overflow encountered in matmul\n",
      "  ret = a @ b\n",
      "/opt/anaconda3/lib/python3.9/site-packages/sklearn/metrics/pairwise.py:314: RuntimeWarning: invalid value encountered in add\n",
      "  distances += XX\n",
      "/opt/anaconda3/lib/python3.9/site-packages/sklearn/utils/extmath.py:152: RuntimeWarning: overflow encountered in matmul\n",
      "  ret = a @ b\n",
      "/opt/anaconda3/lib/python3.9/site-packages/sklearn/metrics/pairwise.py:313: RuntimeWarning: overflow encountered in multiply\n",
      "  distances = - 2 * safe_sparse_dot(X, Y.T, dense_output=True)\n",
      "/opt/anaconda3/lib/python3.9/site-packages/sklearn/metrics/pairwise.py:314: RuntimeWarning: invalid value encountered in add\n",
      "  distances += XX\n",
      "/opt/anaconda3/lib/python3.9/site-packages/sklearn/utils/extmath.py:152: RuntimeWarning: overflow encountered in matmul\n",
      "  ret = a @ b\n",
      "/opt/anaconda3/lib/python3.9/site-packages/sklearn/metrics/pairwise.py:313: RuntimeWarning: overflow encountered in multiply\n",
      "  distances = - 2 * safe_sparse_dot(X, Y.T, dense_output=True)\n",
      "/opt/anaconda3/lib/python3.9/site-packages/sklearn/metrics/pairwise.py:314: RuntimeWarning: invalid value encountered in add\n",
      "  distances += XX\n",
      "/opt/anaconda3/lib/python3.9/site-packages/sklearn/utils/extmath.py:152: RuntimeWarning: overflow encountered in matmul\n",
      "  ret = a @ b\n",
      "/opt/anaconda3/lib/python3.9/site-packages/sklearn/metrics/pairwise.py:313: RuntimeWarning: overflow encountered in multiply\n",
      "  distances = - 2 * safe_sparse_dot(X, Y.T, dense_output=True)\n",
      "/opt/anaconda3/lib/python3.9/site-packages/sklearn/metrics/pairwise.py:314: RuntimeWarning: invalid value encountered in add\n",
      "  distances += XX\n",
      "/opt/anaconda3/lib/python3.9/site-packages/sklearn/utils/extmath.py:152: RuntimeWarning: overflow encountered in matmul\n",
      "  ret = a @ b\n",
      "/opt/anaconda3/lib/python3.9/site-packages/sklearn/metrics/pairwise.py:313: RuntimeWarning: overflow encountered in multiply\n",
      "  distances = - 2 * safe_sparse_dot(X, Y.T, dense_output=True)\n",
      "/opt/anaconda3/lib/python3.9/site-packages/sklearn/metrics/pairwise.py:314: RuntimeWarning: invalid value encountered in add\n",
      "  distances += XX\n",
      "/opt/anaconda3/lib/python3.9/site-packages/sklearn/utils/extmath.py:152: RuntimeWarning: overflow encountered in matmul\n",
      "  ret = a @ b\n",
      "/opt/anaconda3/lib/python3.9/site-packages/sklearn/metrics/pairwise.py:314: RuntimeWarning: invalid value encountered in add\n",
      "  distances += XX\n",
      "/opt/anaconda3/lib/python3.9/site-packages/sklearn/cluster/_kmeans.py:385: RuntimeWarning: overflow encountered in square\n",
      "  elkan_iter(X, sample_weight, centers, centers_new,\n",
      "/opt/anaconda3/lib/python3.9/site-packages/sklearn/utils/extmath.py:152: RuntimeWarning: overflow encountered in matmul\n",
      "  ret = a @ b\n",
      "/opt/anaconda3/lib/python3.9/site-packages/sklearn/metrics/pairwise.py:314: RuntimeWarning: invalid value encountered in add\n",
      "  distances += XX\n",
      "/opt/anaconda3/lib/python3.9/site-packages/sklearn/cluster/_kmeans.py:289: ConvergenceWarning: Number of distinct clusters (2) found smaller than n_clusters (5). Possibly due to duplicate points in X.\n",
      "  est = KMeans(\n"
     ]
    }
   ],
   "source": [
    "from sklearn.cluster import SpectralClustering\n",
    "\n",
    "sc = SpectralClustering()\n",
    "sc.fit(df_model_out)\n",
    "Clusters = sc.labels_"
   ]
  },
  {
   "cell_type": "code",
   "execution_count": 9,
   "metadata": {
    "pycharm": {
     "name": "#%%\n"
    }
   },
   "outputs": [
    {
     "name": "stdout",
     "output_type": "stream",
     "text": [
      "{0: 1134, 4: 1}\n"
     ]
    }
   ],
   "source": [
    "show_clusters_size(Clusters)"
   ]
  },
  {
   "cell_type": "code",
   "execution_count": null,
   "metadata": {
    "pycharm": {
     "name": "#%%\n"
    }
   },
   "outputs": [],
   "source": [
    "from matplotlib import pyplot as plt\n",
    "from sklearn.manifold import TSNE\n",
    "\n",
    "pca = PCA(n_components=2)\n",
    "pca_fit = pca.fit_transform(df_model_out)\n",
    "df_pca = pd.DataFrame(data=pca_fit, columns=['PC1', 'PC2'])\n",
    "Xtsne = TSNE(n_components=2).fit_transform(df_pca)\n",
    "dftsne = pd.DataFrame(data=Xtsne, columns = ['TSNE1','TSNE2'])\n",
    "dftsne['Cluster'] = Clusters\n",
    "plt.figure(figsize=(10,10))\n",
    "sns.scatterplot(data=dftsne,x='TSNE1',y='TSNE2',hue='Cluster',legend=\"full\", palette='Set1', alpha=0.8)\n",
    "plt.title('Personality Clusters on TSNE');"
   ]
  },
  {
   "cell_type": "markdown",
   "metadata": {
    "pycharm": {
     "name": "#%% md\n"
    }
   },
   "source": [
    "# Spectral Clustering (51)"
   ]
  },
  {
   "cell_type": "code",
   "execution_count": 11,
   "metadata": {
    "pycharm": {
     "name": "#%%\n"
    }
   },
   "outputs": [
    {
     "data": {
      "text/plain": [
       "<AxesSubplot:>"
      ]
     },
     "execution_count": 11,
     "metadata": {},
     "output_type": "execute_result"
    },
    {
     "data": {
      "image/png": "[encoded data removed]",
      "text/plain": [
       "<Figure size 432x288 with 1 Axes>"
      ]
     },
     "metadata": {
      "needs_background": "light"
     },
     "output_type": "display_data"
    }
   ],
   "source": [
    "Big_Five51=Big_Five.iloc[:,:50].sample(2000)\n",
    "TimeSpent = Big_Five.iloc[:,51:100].sum(axis = 1) / 1000 / 60\n",
    "df_model = pd.concat([Big_Five51, TimeSpent], axis=1, join=\"inner\")\n",
    "df_model.rename(columns={0: 'TimeSpent'}, inplace=True)\n",
    "indexes = range(1,50)\n",
    "for index in indexes:\n",
    "    if index % 2 == 1:\n",
    "        df_model.iloc[:,index].replace({1: 5, 2: 4, 4: 2, 5:1}, inplace=True)\n",
    "indexes = range(50,100)\n",
    "sns.boxplot(data=df_model)"
   ]
  },
  {
   "cell_type": "code",
   "execution_count": 12,
   "metadata": {
    "pycharm": {
     "name": "#%%\n"
    }
   },
   "outputs": [
    {
     "data": {
      "text/plain": [
       "(1961, 51)"
      ]
     },
     "execution_count": 12,
     "metadata": {},
     "output_type": "execute_result"
    }
   ],
   "source": [
    "Q1 = df_model.quantile(0.25)\n",
    "Q3 = df_model.quantile(0.75)\n",
    "IQR = Q3 - Q1\n",
    "df_model_out = df_model[~((df_model < (Q1 - 5 * IQR)) |(df_model > (Q3 + 5 * IQR))).any(axis=1)]\n",
    "df_model_out.shape"
   ]
  },
  {
   "cell_type": "code",
   "execution_count": 13,
   "metadata": {
    "pycharm": {
     "name": "#%%\n"
    }
   },
   "outputs": [
    {
     "data": {
      "text/plain": [
       "<AxesSubplot:>"
      ]
     },
     "execution_count": 13,
     "metadata": {},
     "output_type": "execute_result"
    },
    {
     "data": {
      "image/png": "[encoded data removed]",
      "text/plain": [
       "<Figure size 432x288 with 1 Axes>"
      ]
     },
     "metadata": {
      "needs_background": "light"
     },
     "output_type": "display_data"
    }
   ],
   "source": [
    "z = np.abs(stats.zscore(df_model_out))\n",
    "df_model_out =df_model_out[(z < 3).all(axis=1)]\n",
    "sns.boxplot(data=df_model_out)"
   ]
  },
  {
   "cell_type": "code",
   "execution_count": 14,
   "metadata": {
    "pycharm": {
     "name": "#%%\n"
    }
   },
   "outputs": [
    {
     "data": {
      "text/plain": [
       "(1785, 51)"
      ]
     },
     "execution_count": 14,
     "metadata": {},
     "output_type": "execute_result"
    }
   ],
   "source": [
    "df_model_out.shape"
   ]
  },
  {
   "cell_type": "code",
   "execution_count": 15,
   "metadata": {
    "pycharm": {
     "name": "#%%\n"
    }
   },
   "outputs": [
    {
     "data": {
      "text/plain": [
       "0.5526513540846252"
      ]
     },
     "execution_count": 15,
     "metadata": {},
     "output_type": "execute_result"
    }
   ],
   "source": [
    "1-hopkins(df_model_out, df_model_out.shape[0])"
   ]
  },
  {
   "cell_type": "code",
   "execution_count": null,
   "metadata": {},
   "outputs": [],
   "source": []
  }
 ],
 "metadata": {
  "kernelspec": {
   "display_name": "Python 3 (ipykernel)",
   "language": "python",
   "name": "python3"
  },
  "language_info": {
   "codemirror_mode": {
    "name": "ipython",
    "version": 3
   },
   "file_extension": ".py",
   "mimetype": "text/x-python",
   "name": "python",
   "nbconvert_exporter": "python",
   "pygments_lexer": "ipython3",
   "version": "3.9.7"
  }
 },
 "nbformat": 4,
 "nbformat_minor": 1
}
