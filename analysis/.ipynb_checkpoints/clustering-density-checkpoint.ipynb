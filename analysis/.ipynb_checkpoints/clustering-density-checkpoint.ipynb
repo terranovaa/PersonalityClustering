{
 "cells": [
  {
   "cell_type": "code",
   "execution_count": null,
   "metadata": {
    "collapsed": true
   },
   "outputs": [],
   "source": [
    "import pandas as pd\n",
    "\n",
    "df_model = pd.read_csv('../data/data-preprocessed.csv',index_col=0)\n",
    "df_model.head()"
   ]
  },
  {
   "cell_type": "code",
   "execution_count": null,
   "metadata": {
    "pycharm": {
     "name": "#%%\n"
    }
   },
   "outputs": [],
   "source": [
    "from sklearn.decomposition import PCA\n",
    "import seaborn as sns\n",
    "\n",
    "pca = PCA(n_components=3)\n",
    "pca_fit = pca.fit_transform(df_model)\n",
    "\n",
    "def show_clusters_size(clusters):\n",
    "    unique, counts = np.unique(clusters, return_counts=True)\n",
    "    print(dict(zip(unique, counts)))\n",
    "\n",
    "def show_pca(clusters):\n",
    "    df_pca = pd.DataFrame(data=pca_fit, columns=['PC1', 'PC2', 'PC3'])\n",
    "    fig, ax = plt.subplots(2, 2, figsize=(15,14))\n",
    "    sns.scatterplot(data=df_pca, x='PC1', y='PC2', palette='Set1', hue=clusters, ax=ax[0][0])\n",
    "    sns.scatterplot(data=df_pca, x='PC1', y='PC3', palette='Set1', hue=clusters, ax=ax[0][1])\n",
    "    sns.scatterplot(data=df_pca, x='PC2', y='PC3', palette='Set1', hue=clusters, ax=ax[1][0])\n",
    "    fig.delaxes(ax[1][1])"
   ]
  },
  {
   "cell_type": "markdown",
   "metadata": {},
   "source": [
    "# DBSCAN"
   ]
  },
  {
   "cell_type": "code",
   "execution_count": null,
   "metadata": {
    "pycharm": {
     "name": "#%%\n"
    }
   },
   "outputs": [],
   "source": [
    "from matplotlib import pyplot as plt\n",
    "import numpy as np\n",
    "from sklearn.neighbors import NearestNeighbors\n",
    "\n",
    "neighbors = NearestNeighbors(n_neighbors=12)\n",
    "neighbors_fit = neighbors.fit(df_model)\n",
    "distances, indices = neighbors_fit.kneighbors(df_model)\n",
    "distances = np.sort(distances, axis=0)[::-1]\n",
    "distances = distances[:,1]\n",
    "plt.plot(distances)"
   ]
  },
  {
   "cell_type": "code",
   "execution_count": null,
   "metadata": {
    "pycharm": {
     "name": "#%%\n"
    }
   },
   "outputs": [],
   "source": [
    "eps = 0.8\n",
    "minPts = 12"
   ]
  },
  {
   "cell_type": "code",
   "execution_count": null,
   "metadata": {
    "pycharm": {
     "name": "#%%\n"
    }
   },
   "outputs": [],
   "source": [
    "from sklearn.cluster import DBSCAN\n",
    "\n",
    "dbscan = DBSCAN(eps=eps, min_samples=minPts).fit(df_model)\n",
    "predictions = dbscan.fit_predict(df_model)\n",
    "Clusters = predictions"
   ]
  },
  {
   "cell_type": "code",
   "execution_count": null,
   "metadata": {
    "pycharm": {
     "name": "#%%\n"
    }
   },
   "outputs": [],
   "source": [
    "show_pca(Clusters)"
   ]
  },
  {
   "cell_type": "code",
   "execution_count": null,
   "metadata": {
    "pycharm": {
     "name": "#%%\n"
    }
   },
   "outputs": [],
   "source": [
    "show_clusters_size(Clusters)"
   ]
  },
  {
   "cell_type": "code",
   "execution_count": null,
   "metadata": {
    "pycharm": {
     "name": "#%%\n"
    }
   },
   "outputs": [],
   "source": [
    "#Test 1\n",
    "eps = 0.5\n",
    "minPts = 15\n",
    "dbscan = DBSCAN(eps=eps, min_samples=minPts).fit(df_model)\n",
    "predictions = dbscan.fit_predict(df_model)\n",
    "Clusters = predictions\n",
    "show_clusters_size(Clusters)"
   ]
  },
  {
   "cell_type": "code",
   "execution_count": null,
   "metadata": {
    "pycharm": {
     "name": "#%%\n"
    }
   },
   "outputs": [],
   "source": [
    "#Test 2\n",
    "eps = 0.4\n",
    "minPts = 16\n",
    "dbscan = DBSCAN(eps=eps, min_samples=minPts).fit(df_model)\n",
    "predictions = dbscan.fit_predict(df_model)\n",
    "Clusters = predictions\n",
    "show_clusters_size(Clusters)"
   ]
  }
 ],
 "metadata": {
  "kernelspec": {
   "display_name": "Python 3 (ipykernel)",
   "language": "python",
   "name": "python3"
  },
  "language_info": {
   "codemirror_mode": {
    "name": "ipython",
    "version": 3
   },
   "file_extension": ".py",
   "mimetype": "text/x-python",
   "name": "python",
   "nbconvert_exporter": "python",
   "pygments_lexer": "ipython3",
   "version": "3.9.7"
  }
 },
 "nbformat": 4,
 "nbformat_minor": 1
}
